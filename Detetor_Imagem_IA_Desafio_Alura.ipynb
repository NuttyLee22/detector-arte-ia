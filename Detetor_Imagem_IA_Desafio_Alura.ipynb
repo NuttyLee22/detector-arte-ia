{
  "nbformat": 4,
  "nbformat_minor": 0,
  "metadata": {
    "colab": {
      "provenance": [],
      "authorship_tag": "ABX9TyPX56BqC03vZWYw3uiCTx27",
      "include_colab_link": true
    },
    "kernelspec": {
      "name": "python3",
      "display_name": "Python 3"
    },
    "language_info": {
      "name": "python"
    }
  },
  "cells": [
    {
      "cell_type": "markdown",
      "metadata": {
        "id": "view-in-github",
        "colab_type": "text"
      },
      "source": [
        "<a href=\"https://colab.research.google.com/github/NuttyLee22/detector-arte-ia/blob/main/Detetor_Imagem_IA_Desafio_Alura.ipynb\" target=\"_parent\"><img src=\"https://colab.research.google.com/assets/colab-badge.svg\" alt=\"Open In Colab\"/></a>"
      ]
    },
    {
      "cell_type": "markdown",
      "source": [
        "# **Análise de artes digitais: Originais ou criadas por IA?**"
      ],
      "metadata": {
        "id": "yhoPClaFbfZi"
      }
    },
    {
      "cell_type": "markdown",
      "source": [
        "## Instalações necessárias:"
      ],
      "metadata": {
        "id": "OAz5cowNbQAA"
      }
    },
    {
      "cell_type": "code",
      "execution_count": 90,
      "metadata": {
        "id": "dL7GGPHmFXSH"
      },
      "outputs": [],
      "source": [
        "!pip install -q -U google-generativeai\n",
        "!pip install -q -U opencv-python"
      ]
    },
    {
      "cell_type": "markdown",
      "source": [
        "## Bibliotecas:"
      ],
      "metadata": {
        "id": "lztPyAe5bW2U"
      }
    },
    {
      "cell_type": "code",
      "source": [
        "from pathlib import Path\n",
        "import hashlib\n",
        "import google.generativeai as genai\n",
        "import cv2\n",
        "\n",
        "from google.colab import userdata\n",
        "from google.colab import files\n",
        "\n",
        "import textwrap\n",
        "from IPython.display import display\n",
        "from IPython.display import Markdown"
      ],
      "metadata": {
        "id": "_7Rhi9NzFjgu"
      },
      "execution_count": 91,
      "outputs": []
    },
    {
      "cell_type": "markdown",
      "source": [
        "## API Key"
      ],
      "metadata": {
        "id": "5Kijlg26baCZ"
      }
    },
    {
      "cell_type": "code",
      "source": [
        "GOOGLE_API_KEY=\"<YOUR-API-KEY>\"\n",
        "genai.configure(api_key=GOOGLE_API_KEY)"
      ],
      "metadata": {
        "id": "JRDdRGHAFlmg"
      },
      "execution_count": 92,
      "outputs": []
    },
    {
      "cell_type": "code",
      "source": [
        "generation_config = {\n",
        "  \"temperature\": 1,\n",
        "  \"top_p\": 0.95,\n",
        "  \"top_k\": 0,\n",
        "}"
      ],
      "metadata": {
        "id": "d7M1x2ZLFnCA"
      },
      "execution_count": 93,
      "outputs": []
    },
    {
      "cell_type": "markdown",
      "source": [
        "## Configurações da API"
      ],
      "metadata": {
        "id": "ijp5air7brn2"
      }
    },
    {
      "cell_type": "code",
      "source": [
        "safety_settings = [\n",
        "  {\n",
        "    \"category\": \"HARM_CATEGORY_HARASSMENT\",\n",
        "    \"threshold\": \"BLOCK_ONLY_HIGH\"\n",
        "  },\n",
        "  {\n",
        "    \"category\": \"HARM_CATEGORY_HATE_SPEECH\",\n",
        "    \"threshold\": \"BLOCK_ONLY_HIGH\"\n",
        "  },\n",
        "  {\n",
        "    \"category\": \"HARM_CATEGORY_SEXUALLY_EXPLICIT\",\n",
        "    \"threshold\": \"BLOCK_ONLY_HIGH\"\n",
        "  },\n",
        "  {\n",
        "    \"category\": \"HARM_CATEGORY_DANGEROUS_CONTENT\",\n",
        "    \"threshold\": \"BLOCK_ONLY_HIGH\"\n",
        "  },\n",
        "]\n",
        ""
      ],
      "metadata": {
        "id": "AAqcQM0OFqxX"
      },
      "execution_count": 94,
      "outputs": []
    },
    {
      "cell_type": "code",
      "source": [
        "system_instruction = \"Você é um  profissional especialista em arte digital\"\n",
        "\n",
        "model = genai.GenerativeModel(model_name=\"gemini-1.5-pro-latest\",\n",
        "                              generation_config=generation_config,\n",
        "                              system_instruction=system_instruction,\n",
        "                              safety_settings=safety_settings)"
      ],
      "metadata": {
        "id": "ejXlmj6aHcO_"
      },
      "execution_count": 95,
      "outputs": []
    },
    {
      "cell_type": "markdown",
      "source": [
        "## Desenvolvimento"
      ],
      "metadata": {
        "id": "ta-asU0Vbxxm"
      }
    },
    {
      "cell_type": "code",
      "source": [
        "import re\n",
        "chat = model.start_chat(history=[])\n",
        "\n",
        "while True:\n",
        "  imagem = input(\"Deseja subir uma imagem? (sim/não): \")\n",
        "  if imagem.lower() != \"sim\":\n",
        "    break\n",
        "\n",
        "  uploaded = files.upload()\n",
        "  if not uploaded:\n",
        "    print(\"Nenhuma imagem carregada.\")\n",
        "    break\n",
        "\n",
        "  imagem = list(uploaded.keys())[0]\n",
        "  #imagem = cv2.imread(imagem_upload)\n",
        "\n",
        "  prompt = [genai.upload_file(imagem), \"Analise essa imagem e diga a probabilidade dela ter sido criada por inteligência artificial ou se parece ser uma arte original ou até mesmo uma foto.\"]\n",
        "  response = chat.send_message(prompt)\n",
        "\n",
        "  # Imprime a resposta e inclui o nome da imagem no histórico\n",
        "  for choice in response.candidates:\n",
        "      for part in choice.content.parts:\n",
        "          print(part.text)\n",
        "          chat.history[-1].parts[0].text = f\"**Analisando a imagem: {imagem}**\\n{part.text}\""
      ],
      "metadata": {
        "colab": {
          "base_uri": "https://localhost:8080/",
          "height": 1000
        },
        "id": "xb6K6GN9He6z",
        "outputId": "0e4da271-48eb-4fc8-b4c7-3dfff850b229"
      },
      "execution_count": 96,
      "outputs": [
        {
          "name": "stdout",
          "output_type": "stream",
          "text": [
            "Deseja subir uma imagem? (sim/não): sim\n"
          ]
        },
        {
          "output_type": "display_data",
          "data": {
            "text/plain": [
              "<IPython.core.display.HTML object>"
            ],
            "text/html": [
              "\n",
              "     <input type=\"file\" id=\"files-e13eb7ed-df11-4851-9745-29f5c226ca1a\" name=\"files[]\" multiple disabled\n",
              "        style=\"border:none\" />\n",
              "     <output id=\"result-e13eb7ed-df11-4851-9745-29f5c226ca1a\">\n",
              "      Upload widget is only available when the cell has been executed in the\n",
              "      current browser session. Please rerun this cell to enable.\n",
              "      </output>\n",
              "      <script>// Copyright 2017 Google LLC\n",
              "//\n",
              "// Licensed under the Apache License, Version 2.0 (the \"License\");\n",
              "// you may not use this file except in compliance with the License.\n",
              "// You may obtain a copy of the License at\n",
              "//\n",
              "//      http://www.apache.org/licenses/LICENSE-2.0\n",
              "//\n",
              "// Unless required by applicable law or agreed to in writing, software\n",
              "// distributed under the License is distributed on an \"AS IS\" BASIS,\n",
              "// WITHOUT WARRANTIES OR CONDITIONS OF ANY KIND, either express or implied.\n",
              "// See the License for the specific language governing permissions and\n",
              "// limitations under the License.\n",
              "\n",
              "/**\n",
              " * @fileoverview Helpers for google.colab Python module.\n",
              " */\n",
              "(function(scope) {\n",
              "function span(text, styleAttributes = {}) {\n",
              "  const element = document.createElement('span');\n",
              "  element.textContent = text;\n",
              "  for (const key of Object.keys(styleAttributes)) {\n",
              "    element.style[key] = styleAttributes[key];\n",
              "  }\n",
              "  return element;\n",
              "}\n",
              "\n",
              "// Max number of bytes which will be uploaded at a time.\n",
              "const MAX_PAYLOAD_SIZE = 100 * 1024;\n",
              "\n",
              "function _uploadFiles(inputId, outputId) {\n",
              "  const steps = uploadFilesStep(inputId, outputId);\n",
              "  const outputElement = document.getElementById(outputId);\n",
              "  // Cache steps on the outputElement to make it available for the next call\n",
              "  // to uploadFilesContinue from Python.\n",
              "  outputElement.steps = steps;\n",
              "\n",
              "  return _uploadFilesContinue(outputId);\n",
              "}\n",
              "\n",
              "// This is roughly an async generator (not supported in the browser yet),\n",
              "// where there are multiple asynchronous steps and the Python side is going\n",
              "// to poll for completion of each step.\n",
              "// This uses a Promise to block the python side on completion of each step,\n",
              "// then passes the result of the previous step as the input to the next step.\n",
              "function _uploadFilesContinue(outputId) {\n",
              "  const outputElement = document.getElementById(outputId);\n",
              "  const steps = outputElement.steps;\n",
              "\n",
              "  const next = steps.next(outputElement.lastPromiseValue);\n",
              "  return Promise.resolve(next.value.promise).then((value) => {\n",
              "    // Cache the last promise value to make it available to the next\n",
              "    // step of the generator.\n",
              "    outputElement.lastPromiseValue = value;\n",
              "    return next.value.response;\n",
              "  });\n",
              "}\n",
              "\n",
              "/**\n",
              " * Generator function which is called between each async step of the upload\n",
              " * process.\n",
              " * @param {string} inputId Element ID of the input file picker element.\n",
              " * @param {string} outputId Element ID of the output display.\n",
              " * @return {!Iterable<!Object>} Iterable of next steps.\n",
              " */\n",
              "function* uploadFilesStep(inputId, outputId) {\n",
              "  const inputElement = document.getElementById(inputId);\n",
              "  inputElement.disabled = false;\n",
              "\n",
              "  const outputElement = document.getElementById(outputId);\n",
              "  outputElement.innerHTML = '';\n",
              "\n",
              "  const pickedPromise = new Promise((resolve) => {\n",
              "    inputElement.addEventListener('change', (e) => {\n",
              "      resolve(e.target.files);\n",
              "    });\n",
              "  });\n",
              "\n",
              "  const cancel = document.createElement('button');\n",
              "  inputElement.parentElement.appendChild(cancel);\n",
              "  cancel.textContent = 'Cancel upload';\n",
              "  const cancelPromise = new Promise((resolve) => {\n",
              "    cancel.onclick = () => {\n",
              "      resolve(null);\n",
              "    };\n",
              "  });\n",
              "\n",
              "  // Wait for the user to pick the files.\n",
              "  const files = yield {\n",
              "    promise: Promise.race([pickedPromise, cancelPromise]),\n",
              "    response: {\n",
              "      action: 'starting',\n",
              "    }\n",
              "  };\n",
              "\n",
              "  cancel.remove();\n",
              "\n",
              "  // Disable the input element since further picks are not allowed.\n",
              "  inputElement.disabled = true;\n",
              "\n",
              "  if (!files) {\n",
              "    return {\n",
              "      response: {\n",
              "        action: 'complete',\n",
              "      }\n",
              "    };\n",
              "  }\n",
              "\n",
              "  for (const file of files) {\n",
              "    const li = document.createElement('li');\n",
              "    li.append(span(file.name, {fontWeight: 'bold'}));\n",
              "    li.append(span(\n",
              "        `(${file.type || 'n/a'}) - ${file.size} bytes, ` +\n",
              "        `last modified: ${\n",
              "            file.lastModifiedDate ? file.lastModifiedDate.toLocaleDateString() :\n",
              "                                    'n/a'} - `));\n",
              "    const percent = span('0% done');\n",
              "    li.appendChild(percent);\n",
              "\n",
              "    outputElement.appendChild(li);\n",
              "\n",
              "    const fileDataPromise = new Promise((resolve) => {\n",
              "      const reader = new FileReader();\n",
              "      reader.onload = (e) => {\n",
              "        resolve(e.target.result);\n",
              "      };\n",
              "      reader.readAsArrayBuffer(file);\n",
              "    });\n",
              "    // Wait for the data to be ready.\n",
              "    let fileData = yield {\n",
              "      promise: fileDataPromise,\n",
              "      response: {\n",
              "        action: 'continue',\n",
              "      }\n",
              "    };\n",
              "\n",
              "    // Use a chunked sending to avoid message size limits. See b/62115660.\n",
              "    let position = 0;\n",
              "    do {\n",
              "      const length = Math.min(fileData.byteLength - position, MAX_PAYLOAD_SIZE);\n",
              "      const chunk = new Uint8Array(fileData, position, length);\n",
              "      position += length;\n",
              "\n",
              "      const base64 = btoa(String.fromCharCode.apply(null, chunk));\n",
              "      yield {\n",
              "        response: {\n",
              "          action: 'append',\n",
              "          file: file.name,\n",
              "          data: base64,\n",
              "        },\n",
              "      };\n",
              "\n",
              "      let percentDone = fileData.byteLength === 0 ?\n",
              "          100 :\n",
              "          Math.round((position / fileData.byteLength) * 100);\n",
              "      percent.textContent = `${percentDone}% done`;\n",
              "\n",
              "    } while (position < fileData.byteLength);\n",
              "  }\n",
              "\n",
              "  // All done.\n",
              "  yield {\n",
              "    response: {\n",
              "      action: 'complete',\n",
              "    }\n",
              "  };\n",
              "}\n",
              "\n",
              "scope.google = scope.google || {};\n",
              "scope.google.colab = scope.google.colab || {};\n",
              "scope.google.colab._files = {\n",
              "  _uploadFiles,\n",
              "  _uploadFilesContinue,\n",
              "};\n",
              "})(self);\n",
              "</script> "
            ]
          },
          "metadata": {}
        },
        {
          "name": "stdout",
          "output_type": "stream",
          "text": [
            "Saving venti.jpg to venti.jpg\n",
            "A imagem apresenta diversas características que indicam ter sido criada digitalmente, com grande probabilidade por um artista humano utilizando softwares de desenho e pintura, e não por Inteligência Artificial. \n",
            "\n",
            "**Elementos que apontam para arte digital feita por humano:**\n",
            "\n",
            "* **Traços:** O estilo dos traços é consistente com o estilo anime, com linhas definidas e limpas. Apesar de softwares de IA conseguirem replicar estilos, a fluidez e precisão dos traços sugerem controle humano.\n",
            "* **Sombreamento e Iluminação:** As áreas de luz e sombra são bem definidas e aplicadas de forma suave, criando volume e profundidade, o que demonstra domínio de técnicas de pintura digital.\n",
            "* **Expressão Facial:**  A expressão do personagem é sutil e cheia de nuances, com um leve sorriso irônico, transmitindo emoção de forma convincente.  Capturar sutilezas na expressão facial ainda é um desafio para IA.\n",
            "* **Detalhes:** A atenção aos detalhes, como o brilho nos olhos, as dobras sutis na roupa e a textura da flor, apontam para o cuidado e a atenção de um artista humano.\n",
            "\n",
            "**Probabilidade de ser IA:**\n",
            "\n",
            "Embora existam softwares de IA capazes de gerar imagens impressionantes, ainda é improvável que uma IA, no estado atual da tecnologia (2023), produza uma imagem com este nível de qualidade artística e expressividade.\n",
            "\n",
            "**Conclusão:**\n",
            "\n",
            "Considerando os elementos mencionados, é altamente provável que a imagem seja uma arte digital original, criada por um artista humano habilidoso utilizando ferramentas digitais. A probabilidade de ter sido gerada por IA é baixa. \n",
            "\n",
            "Deseja subir uma imagem? (sim/não): sim\n"
          ]
        },
        {
          "output_type": "display_data",
          "data": {
            "text/plain": [
              "<IPython.core.display.HTML object>"
            ],
            "text/html": [
              "\n",
              "     <input type=\"file\" id=\"files-8e0004d4-eca7-4e75-bdde-a42c151ffda0\" name=\"files[]\" multiple disabled\n",
              "        style=\"border:none\" />\n",
              "     <output id=\"result-8e0004d4-eca7-4e75-bdde-a42c151ffda0\">\n",
              "      Upload widget is only available when the cell has been executed in the\n",
              "      current browser session. Please rerun this cell to enable.\n",
              "      </output>\n",
              "      <script>// Copyright 2017 Google LLC\n",
              "//\n",
              "// Licensed under the Apache License, Version 2.0 (the \"License\");\n",
              "// you may not use this file except in compliance with the License.\n",
              "// You may obtain a copy of the License at\n",
              "//\n",
              "//      http://www.apache.org/licenses/LICENSE-2.0\n",
              "//\n",
              "// Unless required by applicable law or agreed to in writing, software\n",
              "// distributed under the License is distributed on an \"AS IS\" BASIS,\n",
              "// WITHOUT WARRANTIES OR CONDITIONS OF ANY KIND, either express or implied.\n",
              "// See the License for the specific language governing permissions and\n",
              "// limitations under the License.\n",
              "\n",
              "/**\n",
              " * @fileoverview Helpers for google.colab Python module.\n",
              " */\n",
              "(function(scope) {\n",
              "function span(text, styleAttributes = {}) {\n",
              "  const element = document.createElement('span');\n",
              "  element.textContent = text;\n",
              "  for (const key of Object.keys(styleAttributes)) {\n",
              "    element.style[key] = styleAttributes[key];\n",
              "  }\n",
              "  return element;\n",
              "}\n",
              "\n",
              "// Max number of bytes which will be uploaded at a time.\n",
              "const MAX_PAYLOAD_SIZE = 100 * 1024;\n",
              "\n",
              "function _uploadFiles(inputId, outputId) {\n",
              "  const steps = uploadFilesStep(inputId, outputId);\n",
              "  const outputElement = document.getElementById(outputId);\n",
              "  // Cache steps on the outputElement to make it available for the next call\n",
              "  // to uploadFilesContinue from Python.\n",
              "  outputElement.steps = steps;\n",
              "\n",
              "  return _uploadFilesContinue(outputId);\n",
              "}\n",
              "\n",
              "// This is roughly an async generator (not supported in the browser yet),\n",
              "// where there are multiple asynchronous steps and the Python side is going\n",
              "// to poll for completion of each step.\n",
              "// This uses a Promise to block the python side on completion of each step,\n",
              "// then passes the result of the previous step as the input to the next step.\n",
              "function _uploadFilesContinue(outputId) {\n",
              "  const outputElement = document.getElementById(outputId);\n",
              "  const steps = outputElement.steps;\n",
              "\n",
              "  const next = steps.next(outputElement.lastPromiseValue);\n",
              "  return Promise.resolve(next.value.promise).then((value) => {\n",
              "    // Cache the last promise value to make it available to the next\n",
              "    // step of the generator.\n",
              "    outputElement.lastPromiseValue = value;\n",
              "    return next.value.response;\n",
              "  });\n",
              "}\n",
              "\n",
              "/**\n",
              " * Generator function which is called between each async step of the upload\n",
              " * process.\n",
              " * @param {string} inputId Element ID of the input file picker element.\n",
              " * @param {string} outputId Element ID of the output display.\n",
              " * @return {!Iterable<!Object>} Iterable of next steps.\n",
              " */\n",
              "function* uploadFilesStep(inputId, outputId) {\n",
              "  const inputElement = document.getElementById(inputId);\n",
              "  inputElement.disabled = false;\n",
              "\n",
              "  const outputElement = document.getElementById(outputId);\n",
              "  outputElement.innerHTML = '';\n",
              "\n",
              "  const pickedPromise = new Promise((resolve) => {\n",
              "    inputElement.addEventListener('change', (e) => {\n",
              "      resolve(e.target.files);\n",
              "    });\n",
              "  });\n",
              "\n",
              "  const cancel = document.createElement('button');\n",
              "  inputElement.parentElement.appendChild(cancel);\n",
              "  cancel.textContent = 'Cancel upload';\n",
              "  const cancelPromise = new Promise((resolve) => {\n",
              "    cancel.onclick = () => {\n",
              "      resolve(null);\n",
              "    };\n",
              "  });\n",
              "\n",
              "  // Wait for the user to pick the files.\n",
              "  const files = yield {\n",
              "    promise: Promise.race([pickedPromise, cancelPromise]),\n",
              "    response: {\n",
              "      action: 'starting',\n",
              "    }\n",
              "  };\n",
              "\n",
              "  cancel.remove();\n",
              "\n",
              "  // Disable the input element since further picks are not allowed.\n",
              "  inputElement.disabled = true;\n",
              "\n",
              "  if (!files) {\n",
              "    return {\n",
              "      response: {\n",
              "        action: 'complete',\n",
              "      }\n",
              "    };\n",
              "  }\n",
              "\n",
              "  for (const file of files) {\n",
              "    const li = document.createElement('li');\n",
              "    li.append(span(file.name, {fontWeight: 'bold'}));\n",
              "    li.append(span(\n",
              "        `(${file.type || 'n/a'}) - ${file.size} bytes, ` +\n",
              "        `last modified: ${\n",
              "            file.lastModifiedDate ? file.lastModifiedDate.toLocaleDateString() :\n",
              "                                    'n/a'} - `));\n",
              "    const percent = span('0% done');\n",
              "    li.appendChild(percent);\n",
              "\n",
              "    outputElement.appendChild(li);\n",
              "\n",
              "    const fileDataPromise = new Promise((resolve) => {\n",
              "      const reader = new FileReader();\n",
              "      reader.onload = (e) => {\n",
              "        resolve(e.target.result);\n",
              "      };\n",
              "      reader.readAsArrayBuffer(file);\n",
              "    });\n",
              "    // Wait for the data to be ready.\n",
              "    let fileData = yield {\n",
              "      promise: fileDataPromise,\n",
              "      response: {\n",
              "        action: 'continue',\n",
              "      }\n",
              "    };\n",
              "\n",
              "    // Use a chunked sending to avoid message size limits. See b/62115660.\n",
              "    let position = 0;\n",
              "    do {\n",
              "      const length = Math.min(fileData.byteLength - position, MAX_PAYLOAD_SIZE);\n",
              "      const chunk = new Uint8Array(fileData, position, length);\n",
              "      position += length;\n",
              "\n",
              "      const base64 = btoa(String.fromCharCode.apply(null, chunk));\n",
              "      yield {\n",
              "        response: {\n",
              "          action: 'append',\n",
              "          file: file.name,\n",
              "          data: base64,\n",
              "        },\n",
              "      };\n",
              "\n",
              "      let percentDone = fileData.byteLength === 0 ?\n",
              "          100 :\n",
              "          Math.round((position / fileData.byteLength) * 100);\n",
              "      percent.textContent = `${percentDone}% done`;\n",
              "\n",
              "    } while (position < fileData.byteLength);\n",
              "  }\n",
              "\n",
              "  // All done.\n",
              "  yield {\n",
              "    response: {\n",
              "      action: 'complete',\n",
              "    }\n",
              "  };\n",
              "}\n",
              "\n",
              "scope.google = scope.google || {};\n",
              "scope.google.colab = scope.google.colab || {};\n",
              "scope.google.colab._files = {\n",
              "  _uploadFiles,\n",
              "  _uploadFilesContinue,\n",
              "};\n",
              "})(self);\n",
              "</script> "
            ]
          },
          "metadata": {}
        },
        {
          "name": "stdout",
          "output_type": "stream",
          "text": [
            "Saving yamato.jpg to yamato.jpg\n",
            "A imagem que você apresentou tem características que a colocam numa área cinzenta entre arte digital feita por humanos e arte gerada por IA. Vamos analisar os pontos:\n",
            "\n",
            "**Indícios de Arte Digital por Humano:**\n",
            "\n",
            "* **Estilo:** A estética anime é evidente, e a composição geral, com a personagem em primeiro plano e o cenário desfocado ao fundo, é um estilo popular entre artistas digitais.\n",
            "* **Detalhes:** A roupa, os cabelos, os chifres e o brinco demonstram riqueza de detalhes e textura, o que sugere um trabalho manual meticuloso. \n",
            "* **Iluminação e Sombreamento:** A luz e sombra na pele, cabelo e roupa são complexos e sutis, criando volume e realismo, o que exige grande domínio técnico.\n",
            "\n",
            "**Indícios de Arte Gerada por IA:**\n",
            "\n",
            "* **Textura da Pele:** A pele apresenta uma textura suave e uniforme, que pode ser um indicativo de IA, já que alguns algoritmos ainda têm dificuldade em replicar a textura natural da pele humana.\n",
            "* **Olhos:** Apesar de expressivos, os olhos exibem uma certa simetria e perfeição que podem ser resultado de IA. A maneira como a luz reflete neles também parece artificial.\n",
            "* **Fundo:** O fundo, apesar de bonito, é menos detalhado que a personagem, o que é comum em imagens geradas por IA, que tendem a focar no objeto principal. \n",
            "\n",
            "**Conclusão:**\n",
            "\n",
            "A imagem apresenta elementos que a tornam difícil de classificar com certeza. É possível que seja uma arte digital criada por um humano utilizando softwares como Photoshop ou Clip Studio Paint, mas com alguns filtros e efeitos que dão um aspecto de IA. Também pode ser uma arte inicialmente gerada por IA, mas que passou por um processo de refinamento e edição por um artista humano. \n",
            "\n",
            "Em resumo:\n",
            "\n",
            "* **Probabilidade de Arte Digital por Humano:** Alta, mas com possibilidade de uso de filtros e efeitos.\n",
            "* **Probabilidade de Arte Gerada por IA:** Moderada, mas com possível intervenção humana posterior.\n",
            "* **Probabilidade de Foto:** Baixíssima, já que a imagem possui características de ilustração digital. \n",
            "\n",
            "Sem mais informações sobre a origem da imagem, é difícil determinar com 100% de certeza a sua natureza. No entanto, a análise dos elementos artísticos sugere uma forte influência de ferramentas digitais, seja por criação integral ou edição posterior. \n",
            "\n",
            "Deseja subir uma imagem? (sim/não): sim\n"
          ]
        },
        {
          "output_type": "display_data",
          "data": {
            "text/plain": [
              "<IPython.core.display.HTML object>"
            ],
            "text/html": [
              "\n",
              "     <input type=\"file\" id=\"files-48455785-2205-4c58-ac53-b16958570705\" name=\"files[]\" multiple disabled\n",
              "        style=\"border:none\" />\n",
              "     <output id=\"result-48455785-2205-4c58-ac53-b16958570705\">\n",
              "      Upload widget is only available when the cell has been executed in the\n",
              "      current browser session. Please rerun this cell to enable.\n",
              "      </output>\n",
              "      <script>// Copyright 2017 Google LLC\n",
              "//\n",
              "// Licensed under the Apache License, Version 2.0 (the \"License\");\n",
              "// you may not use this file except in compliance with the License.\n",
              "// You may obtain a copy of the License at\n",
              "//\n",
              "//      http://www.apache.org/licenses/LICENSE-2.0\n",
              "//\n",
              "// Unless required by applicable law or agreed to in writing, software\n",
              "// distributed under the License is distributed on an \"AS IS\" BASIS,\n",
              "// WITHOUT WARRANTIES OR CONDITIONS OF ANY KIND, either express or implied.\n",
              "// See the License for the specific language governing permissions and\n",
              "// limitations under the License.\n",
              "\n",
              "/**\n",
              " * @fileoverview Helpers for google.colab Python module.\n",
              " */\n",
              "(function(scope) {\n",
              "function span(text, styleAttributes = {}) {\n",
              "  const element = document.createElement('span');\n",
              "  element.textContent = text;\n",
              "  for (const key of Object.keys(styleAttributes)) {\n",
              "    element.style[key] = styleAttributes[key];\n",
              "  }\n",
              "  return element;\n",
              "}\n",
              "\n",
              "// Max number of bytes which will be uploaded at a time.\n",
              "const MAX_PAYLOAD_SIZE = 100 * 1024;\n",
              "\n",
              "function _uploadFiles(inputId, outputId) {\n",
              "  const steps = uploadFilesStep(inputId, outputId);\n",
              "  const outputElement = document.getElementById(outputId);\n",
              "  // Cache steps on the outputElement to make it available for the next call\n",
              "  // to uploadFilesContinue from Python.\n",
              "  outputElement.steps = steps;\n",
              "\n",
              "  return _uploadFilesContinue(outputId);\n",
              "}\n",
              "\n",
              "// This is roughly an async generator (not supported in the browser yet),\n",
              "// where there are multiple asynchronous steps and the Python side is going\n",
              "// to poll for completion of each step.\n",
              "// This uses a Promise to block the python side on completion of each step,\n",
              "// then passes the result of the previous step as the input to the next step.\n",
              "function _uploadFilesContinue(outputId) {\n",
              "  const outputElement = document.getElementById(outputId);\n",
              "  const steps = outputElement.steps;\n",
              "\n",
              "  const next = steps.next(outputElement.lastPromiseValue);\n",
              "  return Promise.resolve(next.value.promise).then((value) => {\n",
              "    // Cache the last promise value to make it available to the next\n",
              "    // step of the generator.\n",
              "    outputElement.lastPromiseValue = value;\n",
              "    return next.value.response;\n",
              "  });\n",
              "}\n",
              "\n",
              "/**\n",
              " * Generator function which is called between each async step of the upload\n",
              " * process.\n",
              " * @param {string} inputId Element ID of the input file picker element.\n",
              " * @param {string} outputId Element ID of the output display.\n",
              " * @return {!Iterable<!Object>} Iterable of next steps.\n",
              " */\n",
              "function* uploadFilesStep(inputId, outputId) {\n",
              "  const inputElement = document.getElementById(inputId);\n",
              "  inputElement.disabled = false;\n",
              "\n",
              "  const outputElement = document.getElementById(outputId);\n",
              "  outputElement.innerHTML = '';\n",
              "\n",
              "  const pickedPromise = new Promise((resolve) => {\n",
              "    inputElement.addEventListener('change', (e) => {\n",
              "      resolve(e.target.files);\n",
              "    });\n",
              "  });\n",
              "\n",
              "  const cancel = document.createElement('button');\n",
              "  inputElement.parentElement.appendChild(cancel);\n",
              "  cancel.textContent = 'Cancel upload';\n",
              "  const cancelPromise = new Promise((resolve) => {\n",
              "    cancel.onclick = () => {\n",
              "      resolve(null);\n",
              "    };\n",
              "  });\n",
              "\n",
              "  // Wait for the user to pick the files.\n",
              "  const files = yield {\n",
              "    promise: Promise.race([pickedPromise, cancelPromise]),\n",
              "    response: {\n",
              "      action: 'starting',\n",
              "    }\n",
              "  };\n",
              "\n",
              "  cancel.remove();\n",
              "\n",
              "  // Disable the input element since further picks are not allowed.\n",
              "  inputElement.disabled = true;\n",
              "\n",
              "  if (!files) {\n",
              "    return {\n",
              "      response: {\n",
              "        action: 'complete',\n",
              "      }\n",
              "    };\n",
              "  }\n",
              "\n",
              "  for (const file of files) {\n",
              "    const li = document.createElement('li');\n",
              "    li.append(span(file.name, {fontWeight: 'bold'}));\n",
              "    li.append(span(\n",
              "        `(${file.type || 'n/a'}) - ${file.size} bytes, ` +\n",
              "        `last modified: ${\n",
              "            file.lastModifiedDate ? file.lastModifiedDate.toLocaleDateString() :\n",
              "                                    'n/a'} - `));\n",
              "    const percent = span('0% done');\n",
              "    li.appendChild(percent);\n",
              "\n",
              "    outputElement.appendChild(li);\n",
              "\n",
              "    const fileDataPromise = new Promise((resolve) => {\n",
              "      const reader = new FileReader();\n",
              "      reader.onload = (e) => {\n",
              "        resolve(e.target.result);\n",
              "      };\n",
              "      reader.readAsArrayBuffer(file);\n",
              "    });\n",
              "    // Wait for the data to be ready.\n",
              "    let fileData = yield {\n",
              "      promise: fileDataPromise,\n",
              "      response: {\n",
              "        action: 'continue',\n",
              "      }\n",
              "    };\n",
              "\n",
              "    // Use a chunked sending to avoid message size limits. See b/62115660.\n",
              "    let position = 0;\n",
              "    do {\n",
              "      const length = Math.min(fileData.byteLength - position, MAX_PAYLOAD_SIZE);\n",
              "      const chunk = new Uint8Array(fileData, position, length);\n",
              "      position += length;\n",
              "\n",
              "      const base64 = btoa(String.fromCharCode.apply(null, chunk));\n",
              "      yield {\n",
              "        response: {\n",
              "          action: 'append',\n",
              "          file: file.name,\n",
              "          data: base64,\n",
              "        },\n",
              "      };\n",
              "\n",
              "      let percentDone = fileData.byteLength === 0 ?\n",
              "          100 :\n",
              "          Math.round((position / fileData.byteLength) * 100);\n",
              "      percent.textContent = `${percentDone}% done`;\n",
              "\n",
              "    } while (position < fileData.byteLength);\n",
              "  }\n",
              "\n",
              "  // All done.\n",
              "  yield {\n",
              "    response: {\n",
              "      action: 'complete',\n",
              "    }\n",
              "  };\n",
              "}\n",
              "\n",
              "scope.google = scope.google || {};\n",
              "scope.google.colab = scope.google.colab || {};\n",
              "scope.google.colab._files = {\n",
              "  _uploadFiles,\n",
              "  _uploadFilesContinue,\n",
              "};\n",
              "})(self);\n",
              "</script> "
            ]
          },
          "metadata": {}
        },
        {
          "name": "stdout",
          "output_type": "stream",
          "text": [
            "Saving jeongin.jpg to jeongin (1).jpg\n",
            "**Analisando a imagem:**\n",
            "\n",
            "A imagem apresenta características típicas de uma fotografia, com alta probabilidade de ser uma foto real e não uma criação de IA ou arte digital.\n",
            "\n",
            "**Elementos que indicam uma fotografia:**\n",
            "\n",
            "* **Textura da pele:** A textura da pele é realista, com poros, pequenas imperfeições e variações de tom que são difíceis de replicar artificialmente.\n",
            "* **Olhos e Expressão:** Os olhos possuem brilho natural e a expressão facial é autêntica, com sutilezas que a IA ainda luta para imitar.\n",
            "* **Profundidade de Campo:** O fundo desfocado em relação ao primeiro plano sugere o uso de uma lente com abertura grande, criando um efeito natural de profundidade de campo encontrado em fotografia.\n",
            "* **Iluminação e Sombras:** A iluminação parece natural, proveniente do sol, com sombras suaves e realistas no rosto e corpo da pessoa. \n",
            "* **Detalhes do Ambiente:** O fundo mostra detalhes de um ambiente urbano comum, com pessoas, prédios, calçadas, etc. A complexidade desses detalhes é difícil de ser criada artificialmente.\n",
            "* **Pós-processamento:** A imagem pode ter passado por um leve processo de edição para ajustar cores e contraste, o que é comum em fotografia digital, mas não há indícios de manipulação ou adição de elementos artificiais.\n",
            "\n",
            "**Probabilidades:**\n",
            "\n",
            "* **Arte Original (Digital/Tradicional):** Baixíssima. A imagem não possui características de pintura ou desenho.\n",
            "* **Arte Gerada por IA:** Baixíssima. A IA ainda não consegue gerar imagens com este nível de realismo, especialmente em relação à textura da pele, expressão facial e detalhes do ambiente.\n",
            "* **Fotografia:** Altíssima. Todos os elementos da imagem apontam para uma fotografia real de uma pessoa em um ambiente urbano. \n",
            "\n",
            "**Conclusão:**\n",
            "\n",
            "É altamente provável que a imagem seja uma fotografia e não uma arte digital ou criação de IA. A imagem exibe características de autenticidade e realismo que são difíceis de serem replicadas artificialmente. \n",
            "\n",
            "Deseja subir uma imagem? (sim/não): nao\n"
          ]
        }
      ]
    },
    {
      "cell_type": "markdown",
      "source": [
        "## Resultado:"
      ],
      "metadata": {
        "id": "HTXIfFr2b2J6"
      }
    },
    {
      "cell_type": "code",
      "source": [
        "def to_markdown(text):\n",
        "  text = text.replace('•', '  *')\n",
        "  return Markdown(textwrap.indent(text, '> ', predicate=lambda _: True))\n",
        "\n",
        "#Imprimindo o histórico\n",
        "for message in chat.history:\n",
        "  display(to_markdown(f'{message.parts[0].text}'))\n",
        "  print('********************')"
      ],
      "metadata": {
        "colab": {
          "base_uri": "https://localhost:8080/",
          "height": 1000
        },
        "id": "k0Y9X_44J8-c",
        "outputId": "49c582eb-9fa4-4657-fe78-0e791c8a2826"
      },
      "execution_count": 98,
      "outputs": [
        {
          "output_type": "display_data",
          "data": {
            "text/plain": [
              "<IPython.core.display.Markdown object>"
            ],
            "text/markdown": ""
          },
          "metadata": {}
        },
        {
          "output_type": "stream",
          "name": "stdout",
          "text": [
            "********************\n"
          ]
        },
        {
          "output_type": "display_data",
          "data": {
            "text/plain": [
              "<IPython.core.display.Markdown object>"
            ],
            "text/markdown": "> **Analisando a imagem: venti.jpg**\n> A imagem apresenta diversas características que indicam ter sido criada digitalmente, com grande probabilidade por um artista humano utilizando softwares de desenho e pintura, e não por Inteligência Artificial. \n> \n> **Elementos que apontam para arte digital feita por humano:**\n> \n> * **Traços:** O estilo dos traços é consistente com o estilo anime, com linhas definidas e limpas. Apesar de softwares de IA conseguirem replicar estilos, a fluidez e precisão dos traços sugerem controle humano.\n> * **Sombreamento e Iluminação:** As áreas de luz e sombra são bem definidas e aplicadas de forma suave, criando volume e profundidade, o que demonstra domínio de técnicas de pintura digital.\n> * **Expressão Facial:**  A expressão do personagem é sutil e cheia de nuances, com um leve sorriso irônico, transmitindo emoção de forma convincente.  Capturar sutilezas na expressão facial ainda é um desafio para IA.\n> * **Detalhes:** A atenção aos detalhes, como o brilho nos olhos, as dobras sutis na roupa e a textura da flor, apontam para o cuidado e a atenção de um artista humano.\n> \n> **Probabilidade de ser IA:**\n> \n> Embora existam softwares de IA capazes de gerar imagens impressionantes, ainda é improvável que uma IA, no estado atual da tecnologia (2023), produza uma imagem com este nível de qualidade artística e expressividade.\n> \n> **Conclusão:**\n> \n> Considerando os elementos mencionados, é altamente provável que a imagem seja uma arte digital original, criada por um artista humano habilidoso utilizando ferramentas digitais. A probabilidade de ter sido gerada por IA é baixa. \n"
          },
          "metadata": {}
        },
        {
          "output_type": "stream",
          "name": "stdout",
          "text": [
            "********************\n"
          ]
        },
        {
          "output_type": "display_data",
          "data": {
            "text/plain": [
              "<IPython.core.display.Markdown object>"
            ],
            "text/markdown": ""
          },
          "metadata": {}
        },
        {
          "output_type": "stream",
          "name": "stdout",
          "text": [
            "********************\n"
          ]
        },
        {
          "output_type": "display_data",
          "data": {
            "text/plain": [
              "<IPython.core.display.Markdown object>"
            ],
            "text/markdown": "> **Analisando a imagem: yamato.jpg**\n> A imagem que você apresentou tem características que a colocam numa área cinzenta entre arte digital feita por humanos e arte gerada por IA. Vamos analisar os pontos:\n> \n> **Indícios de Arte Digital por Humano:**\n> \n> * **Estilo:** A estética anime é evidente, e a composição geral, com a personagem em primeiro plano e o cenário desfocado ao fundo, é um estilo popular entre artistas digitais.\n> * **Detalhes:** A roupa, os cabelos, os chifres e o brinco demonstram riqueza de detalhes e textura, o que sugere um trabalho manual meticuloso. \n> * **Iluminação e Sombreamento:** A luz e sombra na pele, cabelo e roupa são complexos e sutis, criando volume e realismo, o que exige grande domínio técnico.\n> \n> **Indícios de Arte Gerada por IA:**\n> \n> * **Textura da Pele:** A pele apresenta uma textura suave e uniforme, que pode ser um indicativo de IA, já que alguns algoritmos ainda têm dificuldade em replicar a textura natural da pele humana.\n> * **Olhos:** Apesar de expressivos, os olhos exibem uma certa simetria e perfeição que podem ser resultado de IA. A maneira como a luz reflete neles também parece artificial.\n> * **Fundo:** O fundo, apesar de bonito, é menos detalhado que a personagem, o que é comum em imagens geradas por IA, que tendem a focar no objeto principal. \n> \n> **Conclusão:**\n> \n> A imagem apresenta elementos que a tornam difícil de classificar com certeza. É possível que seja uma arte digital criada por um humano utilizando softwares como Photoshop ou Clip Studio Paint, mas com alguns filtros e efeitos que dão um aspecto de IA. Também pode ser uma arte inicialmente gerada por IA, mas que passou por um processo de refinamento e edição por um artista humano. \n> \n> Em resumo:\n> \n> * **Probabilidade de Arte Digital por Humano:** Alta, mas com possibilidade de uso de filtros e efeitos.\n> * **Probabilidade de Arte Gerada por IA:** Moderada, mas com possível intervenção humana posterior.\n> * **Probabilidade de Foto:** Baixíssima, já que a imagem possui características de ilustração digital. \n> \n> Sem mais informações sobre a origem da imagem, é difícil determinar com 100% de certeza a sua natureza. No entanto, a análise dos elementos artísticos sugere uma forte influência de ferramentas digitais, seja por criação integral ou edição posterior. \n"
          },
          "metadata": {}
        },
        {
          "output_type": "stream",
          "name": "stdout",
          "text": [
            "********************\n"
          ]
        },
        {
          "output_type": "display_data",
          "data": {
            "text/plain": [
              "<IPython.core.display.Markdown object>"
            ],
            "text/markdown": ""
          },
          "metadata": {}
        },
        {
          "output_type": "stream",
          "name": "stdout",
          "text": [
            "********************\n"
          ]
        },
        {
          "output_type": "display_data",
          "data": {
            "text/plain": [
              "<IPython.core.display.Markdown object>"
            ],
            "text/markdown": "> **Analisando a imagem: jeongin (1).jpg**\n> **Analisando a imagem:**\n> \n> A imagem apresenta características típicas de uma fotografia, com alta probabilidade de ser uma foto real e não uma criação de IA ou arte digital.\n> \n> **Elementos que indicam uma fotografia:**\n> \n> * **Textura da pele:** A textura da pele é realista, com poros, pequenas imperfeições e variações de tom que são difíceis de replicar artificialmente.\n> * **Olhos e Expressão:** Os olhos possuem brilho natural e a expressão facial é autêntica, com sutilezas que a IA ainda luta para imitar.\n> * **Profundidade de Campo:** O fundo desfocado em relação ao primeiro plano sugere o uso de uma lente com abertura grande, criando um efeito natural de profundidade de campo encontrado em fotografia.\n> * **Iluminação e Sombras:** A iluminação parece natural, proveniente do sol, com sombras suaves e realistas no rosto e corpo da pessoa. \n> * **Detalhes do Ambiente:** O fundo mostra detalhes de um ambiente urbano comum, com pessoas, prédios, calçadas, etc. A complexidade desses detalhes é difícil de ser criada artificialmente.\n> * **Pós-processamento:** A imagem pode ter passado por um leve processo de edição para ajustar cores e contraste, o que é comum em fotografia digital, mas não há indícios de manipulação ou adição de elementos artificiais.\n> \n> **Probabilidades:**\n> \n> * **Arte Original (Digital/Tradicional):** Baixíssima. A imagem não possui características de pintura ou desenho.\n> * **Arte Gerada por IA:** Baixíssima. A IA ainda não consegue gerar imagens com este nível de realismo, especialmente em relação à textura da pele, expressão facial e detalhes do ambiente.\n> * **Fotografia:** Altíssima. Todos os elementos da imagem apontam para uma fotografia real de uma pessoa em um ambiente urbano. \n> \n> **Conclusão:**\n> \n> É altamente provável que a imagem seja uma fotografia e não uma arte digital ou criação de IA. A imagem exibe características de autenticidade e realismo que são difíceis de serem replicadas artificialmente. \n"
          },
          "metadata": {}
        },
        {
          "output_type": "stream",
          "name": "stdout",
          "text": [
            "********************\n"
          ]
        }
      ]
    }
  ]
}